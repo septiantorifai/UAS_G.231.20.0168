{
  "nbformat": 4,
  "nbformat_minor": 0,
  "metadata": {
    "colab": {
      "provenance": []
    },
    "kernelspec": {
      "name": "python3",
      "display_name": "Python 3"
    },
    "language_info": {
      "name": "python"
    }
  },
  "cells": [
    {
      "cell_type": "code",
      "execution_count": 1,
      "metadata": {
        "id": "k8Dtkb5UfiFH"
      },
      "outputs": [],
      "source": [
        "import numpy as np\n",
        "import pandas as pd\n",
        "import tensorflow as tf\n",
        "from tensorflow import keras\n",
        "from sklearn.model_selection import train_test_split\n",
        "from sklearn.preprocessing import LabelEncoder, StandardScaler\n",
        "from sklearn.metrics import accuracy_score"
      ]
    },
    {
      "cell_type": "code",
      "source": [
        "# Membaca dataset iris.csv\n",
        "data = pd.read_csv('iris.csv')"
      ],
      "metadata": {
        "id": "nhdTkhFIf6KU"
      },
      "execution_count": null,
      "outputs": []
    },
    {
      "cell_type": "code",
      "source": [
        "# Memisahkan fitur dan label\n",
        "X = data.iloc[:, :-1].values\n",
        "y = data.iloc[:, -1].values"
      ],
      "metadata": {
        "id": "Xif-QDIif8cM"
      },
      "execution_count": null,
      "outputs": []
    },
    {
      "cell_type": "code",
      "source": [
        "# Melakukan label encoding pada label\n",
        "label_encoder = LabelEncoder()\n",
        "y = label_encoder.fit_transform(y)\n"
      ],
      "metadata": {
        "id": "LDGhis3Gf9_h",
        "colab": {
          "base_uri": "https://localhost:8080/",
          "height": 200
        },
        "outputId": "36f38e9c-6935-4627-f82e-5ccfd4bba9ef"
      },
      "execution_count": 3,
      "outputs": [
        {
          "output_type": "error",
          "ename": "NameError",
          "evalue": "ignored",
          "traceback": [
            "\u001b[0;31m---------------------------------------------------------------------------\u001b[0m",
            "\u001b[0;31mNameError\u001b[0m                                 Traceback (most recent call last)",
            "\u001b[0;32m<ipython-input-3-4458cb28b7ae>\u001b[0m in \u001b[0;36m<cell line: 3>\u001b[0;34m()\u001b[0m\n\u001b[1;32m      1\u001b[0m \u001b[0;31m# Melakukan label encoding pada label\u001b[0m\u001b[0;34m\u001b[0m\u001b[0;34m\u001b[0m\u001b[0m\n\u001b[1;32m      2\u001b[0m \u001b[0mlabel_encoder\u001b[0m \u001b[0;34m=\u001b[0m \u001b[0mLabelEncoder\u001b[0m\u001b[0;34m(\u001b[0m\u001b[0;34m)\u001b[0m\u001b[0;34m\u001b[0m\u001b[0;34m\u001b[0m\u001b[0m\n\u001b[0;32m----> 3\u001b[0;31m \u001b[0my\u001b[0m \u001b[0;34m=\u001b[0m \u001b[0mlabel_encoder\u001b[0m\u001b[0;34m.\u001b[0m\u001b[0mfit_transform\u001b[0m\u001b[0;34m(\u001b[0m\u001b[0my\u001b[0m\u001b[0;34m)\u001b[0m\u001b[0;34m\u001b[0m\u001b[0;34m\u001b[0m\u001b[0m\n\u001b[0m",
            "\u001b[0;31mNameError\u001b[0m: name 'y' is not defined"
          ]
        }
      ]
    },
    {
      "cell_type": "code",
      "source": [
        "# Normalisasi fitur\n",
        "scaler = StandardScaler()\n",
        "X = scaler.fit_transform(X)"
      ],
      "metadata": {
        "id": "hMoqDJ67gAMa"
      },
      "execution_count": null,
      "outputs": []
    },
    {
      "cell_type": "code",
      "source": [
        "# Membagi dataset menjadi data latih dan data uji\n",
        "X_train, X_test, y_train, y_test = train_test_split(X, y, test_size=0.35)"
      ],
      "metadata": {
        "id": "QXXukGQKgDOQ"
      },
      "execution_count": null,
      "outputs": []
    },
    {
      "cell_type": "code",
      "source": [
        "# Membangun model ANN\n",
        "model = keras.Sequential([\n",
        "    keras.layers.Dense(32, activation='relu', input_shape=(4,)),  # Hidden Layer 1\n",
        "    keras.layers.Dense(64, activation='relu'),  # Hidden Layer 2\n",
        "    keras.layers.Dense(64, activation='relu'),  # Hidden Layer 3\n",
        "    keras.layers.Dense(3, activation='softmax')  # Output Layer\n",
        "])\n"
      ],
      "metadata": {
        "id": "VhVVj4megEvq"
      },
      "execution_count": null,
      "outputs": []
    },
    {
      "cell_type": "code",
      "source": [
        "# Mengompilasi model\n",
        "model.compile(optimizer='adam',\n",
        "              loss='sparse_categorical_crossentropy',\n",
        "              metrics=['accuracy'])\n"
      ],
      "metadata": {
        "id": "oLj48TZBgGWA"
      },
      "execution_count": null,
      "outputs": []
    },
    {
      "cell_type": "code",
      "source": [
        "# Melatih model menggunakan data latih\n",
        "model.fit(X_train, y_train, epochs=20, batch_size=16, validation_data=(X_test, y_test))"
      ],
      "metadata": {
        "colab": {
          "base_uri": "https://localhost:8080/"
        },
        "id": "LSKWcVaygI6X",
        "outputId": "87059f15-4162-46c8-a360-1f2cf80917b6"
      },
      "execution_count": null,
      "outputs": [
        {
          "output_type": "stream",
          "name": "stdout",
          "text": [
            "Epoch 1/20\n",
            "7/7 [==============================] - 2s 69ms/step - loss: 0.9790 - accuracy: 0.3711 - val_loss: 0.8510 - val_accuracy: 0.7736\n",
            "Epoch 2/20\n",
            "7/7 [==============================] - 0s 10ms/step - loss: 0.8161 - accuracy: 0.7423 - val_loss: 0.7191 - val_accuracy: 0.8113\n",
            "Epoch 3/20\n",
            "7/7 [==============================] - 0s 11ms/step - loss: 0.6966 - accuracy: 0.7732 - val_loss: 0.6112 - val_accuracy: 0.8302\n",
            "Epoch 4/20\n",
            "7/7 [==============================] - 0s 11ms/step - loss: 0.6038 - accuracy: 0.7732 - val_loss: 0.5252 - val_accuracy: 0.8113\n",
            "Epoch 5/20\n",
            "7/7 [==============================] - 0s 11ms/step - loss: 0.5273 - accuracy: 0.7938 - val_loss: 0.4584 - val_accuracy: 0.8679\n",
            "Epoch 6/20\n",
            "7/7 [==============================] - 0s 13ms/step - loss: 0.4689 - accuracy: 0.8144 - val_loss: 0.4107 - val_accuracy: 0.8679\n",
            "Epoch 7/20\n",
            "7/7 [==============================] - 0s 13ms/step - loss: 0.4268 - accuracy: 0.8247 - val_loss: 0.3724 - val_accuracy: 0.8679\n",
            "Epoch 8/20\n",
            "7/7 [==============================] - 0s 15ms/step - loss: 0.3959 - accuracy: 0.8247 - val_loss: 0.3462 - val_accuracy: 0.8679\n",
            "Epoch 9/20\n",
            "7/7 [==============================] - 0s 13ms/step - loss: 0.3634 - accuracy: 0.8351 - val_loss: 0.3216 - val_accuracy: 0.8679\n",
            "Epoch 10/20\n",
            "7/7 [==============================] - 0s 13ms/step - loss: 0.3386 - accuracy: 0.8454 - val_loss: 0.3004 - val_accuracy: 0.8679\n",
            "Epoch 11/20\n",
            "7/7 [==============================] - 0s 12ms/step - loss: 0.3132 - accuracy: 0.8557 - val_loss: 0.2793 - val_accuracy: 0.8679\n",
            "Epoch 12/20\n",
            "7/7 [==============================] - 0s 11ms/step - loss: 0.2923 - accuracy: 0.8660 - val_loss: 0.2641 - val_accuracy: 0.9057\n",
            "Epoch 13/20\n",
            "7/7 [==============================] - 0s 11ms/step - loss: 0.2747 - accuracy: 0.8866 - val_loss: 0.2496 - val_accuracy: 0.9057\n",
            "Epoch 14/20\n",
            "7/7 [==============================] - 0s 11ms/step - loss: 0.2516 - accuracy: 0.8969 - val_loss: 0.2382 - val_accuracy: 0.8868\n",
            "Epoch 15/20\n",
            "7/7 [==============================] - 0s 14ms/step - loss: 0.2295 - accuracy: 0.8866 - val_loss: 0.2293 - val_accuracy: 0.8868\n",
            "Epoch 16/20\n",
            "7/7 [==============================] - 0s 16ms/step - loss: 0.2116 - accuracy: 0.9072 - val_loss: 0.2213 - val_accuracy: 0.8868\n",
            "Epoch 17/20\n",
            "7/7 [==============================] - 0s 12ms/step - loss: 0.1963 - accuracy: 0.9278 - val_loss: 0.2149 - val_accuracy: 0.8868\n",
            "Epoch 18/20\n",
            "7/7 [==============================] - 0s 13ms/step - loss: 0.1820 - accuracy: 0.9381 - val_loss: 0.2108 - val_accuracy: 0.8868\n",
            "Epoch 19/20\n",
            "7/7 [==============================] - 0s 11ms/step - loss: 0.1690 - accuracy: 0.9381 - val_loss: 0.2043 - val_accuracy: 0.9057\n",
            "Epoch 20/20\n",
            "7/7 [==============================] - 0s 10ms/step - loss: 0.1558 - accuracy: 0.9381 - val_loss: 0.1995 - val_accuracy: 0.9057\n"
          ]
        },
        {
          "output_type": "execute_result",
          "data": {
            "text/plain": [
              "<keras.callbacks.History at 0x7f68e4233c10>"
            ]
          },
          "metadata": {},
          "execution_count": 9
        }
      ]
    },
    {
      "cell_type": "code",
      "source": [
        "# Memprediksi kelas menggunakan model\n",
        "y_pred = model.predict(X_test)\n",
        "classes_x = np.argmax(y_pred, axis=1)"
      ],
      "metadata": {
        "colab": {
          "base_uri": "https://localhost:8080/"
        },
        "id": "jzljcKU5gLQp",
        "outputId": "498a4a4d-c135-4898-b1a8-4b8cb3f4589a"
      },
      "execution_count": null,
      "outputs": [
        {
          "output_type": "stream",
          "name": "stdout",
          "text": [
            "2/2 [==============================] - 0s 6ms/step\n"
          ]
        }
      ]
    },
    {
      "cell_type": "code",
      "source": [
        "# Menghitung akurasi model\n",
        "accuracy = accuracy_score(y_test, classes_x)\n",
        "print(\"Akurasi Model: {:.2f}%\".format(accuracy * 100))"
      ],
      "metadata": {
        "colab": {
          "base_uri": "https://localhost:8080/"
        },
        "id": "-1CZzb0JgTNo",
        "outputId": "1a77e943-f7d9-48da-fbfa-8383d6417a3d"
      },
      "execution_count": null,
      "outputs": [
        {
          "output_type": "stream",
          "name": "stdout",
          "text": [
            "Akurasi Model: 90.57%\n"
          ]
        }
      ]
    },
    {
      "cell_type": "code",
      "source": [],
      "metadata": {
        "id": "VpWUwSvsgWHA"
      },
      "execution_count": null,
      "outputs": []
    }
  ]
}